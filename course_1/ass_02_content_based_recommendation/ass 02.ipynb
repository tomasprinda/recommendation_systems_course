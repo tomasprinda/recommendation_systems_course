{
 "cells": [
  {
   "cell_type": "code",
   "execution_count": 5,
   "metadata": {},
   "outputs": [
    {
     "name": "stdout",
     "output_type": "stream",
     "text": [
      "The autoreload extension is already loaded. To reload it, use:\n",
      "  %reload_ext autoreload\n",
      "Populating the interactive namespace from numpy and matplotlib\n"
     ]
    },
    {
     "name": "stderr",
     "output_type": "stream",
     "text": [
      "/home/prinda/.pyenv/versions/3.5.2/envs/py3/lib/python3.5/site-packages/IPython/core/magics/pylab.py:161: UserWarning: pylab import has clobbered these variables: ['poisson', 'datetime']\n",
      "`%matplotlib` prevents importing * from pylab and numpy\n",
      "  \"\\n`%matplotlib` prevents importing * from pylab and numpy\"\n",
      "/home/prinda/.pyenv/versions/3.5.2/envs/py3/lib/python3.5/site-packages/IPython/core/interactiveshell.py:2881: FutureWarning: \n",
      "mpl_style had been deprecated and will be removed in a future version.\n",
      "Use `matplotlib.pyplot.style.use` instead.\n",
      "\n",
      "  exec(code_obj, self.user_global_ns, self.user_ns)\n"
     ]
    }
   ],
   "source": [
    "%load_ext autoreload\n",
    "%autoreload 2\n",
    "%pylab inline\n",
    "\n",
    "from collections import defaultdict, OrderedDict, Counter\n",
    "from copy import deepcopy\n",
    "import time\n",
    "import numpy as np\n",
    "from pprint import pprint\n",
    "import matplotlib.pyplot as plt\n",
    "import matplotlib.image as mpimg\n",
    "from scipy.stats import poisson\n",
    "from datetime import date, datetime\n",
    "import uuid\n",
    "import pandas as pd\n",
    "from tputils import csv_load\n",
    "\n",
    "pd.set_option('display.max_columns', None)\n",
    "pd.set_option('display.mpl_style', 'default') # Make the graphs a bit prettier\n",
    "plt.rcParams['figure.figsize'] = (12, 5)\n",
    "font = {'size'   : 12}\n",
    "matplotlib.rc('font', **font)"
   ]
  },
  {
   "cell_type": "markdown",
   "metadata": {},
   "source": [
    "# Load data"
   ]
  },
  {
   "cell_type": "code",
   "execution_count": 6,
   "metadata": {},
   "outputs": [
    {
     "name": "stdout",
     "output_type": "stream",
     "text": [
      "['doc1', 'doc2', 'doc3', 'doc4', 'doc5', 'doc6', 'doc7', 'doc8', 'doc9', 'doc10', 'doc11', 'doc12', 'doc13', 'doc14', 'doc15', 'doc16', 'doc17', 'doc18', 'doc19', 'doc20']\n",
      "['baseball', 'economics', 'politics', 'Europe', 'Asia', 'soccer', 'war', 'security', 'shopping', 'family']\n",
      "[[1 0 1 0 1 1 0 0 0 1]\n",
      " [0 1 1 1 0 0 0 1 0 0]\n",
      " [0 0 0 1 1 1 0 0 0 0]\n",
      " [0 0 1 1 0 0 1 1 0 0]\n",
      " [0 1 0 0 0 0 0 0 1 1]\n",
      " [1 0 0 1 0 0 0 0 0 0]\n",
      " [0 0 0 0 0 0 0 1 0 1]\n",
      " [0 0 1 1 0 0 1 0 0 1]\n",
      " [0 0 0 0 0 1 0 0 1 0]\n",
      " [0 1 0 0 1 0 1 0 0 0]\n",
      " [0 0 1 0 1 0 0 0 1 0]\n",
      " [1 0 0 0 0 1 1 0 0 0]\n",
      " [0 0 1 1 1 0 0 1 0 0]\n",
      " [0 1 1 1 0 0 0 0 1 0]\n",
      " [0 0 0 1 0 1 1 1 0 0]\n",
      " [1 0 0 0 0 1 0 0 1 0]\n",
      " [0 1 1 1 0 0 0 1 0 0]\n",
      " [0 0 0 1 0 0 0 0 1 0]\n",
      " [0 1 1 0 1 0 1 0 0 1]\n",
      " [0 0 1 1 0 0 1 0 1 0]]\n",
      "nr_docs 20\n",
      "nr_tags 10\n"
     ]
    }
   ],
   "source": [
    "doc_tags = csv_load(\"doc_tags.csv\", delimiter=\",\")\n",
    "tag_names = doc_tags[0][1:]\n",
    "doc_names = [row[0] for row in doc_tags[1:]]\n",
    "doc_tags = [row[1:] for row in doc_tags[1:]]\n",
    "doc_tags = np.array(doc_tags, dtype=int)\n",
    "\n",
    "nr_docs, nr_tags = doc_tags.shape\n",
    "\n",
    "print(doc_names)\n",
    "print(tag_names)\n",
    "print(doc_tags)\n",
    "print(\"nr_docs\", nr_docs)\n",
    "print(\"nr_tags\", nr_tags)\n",
    "\n",
    "assert len(tag_names) == nr_tags\n",
    "assert len(doc_names) == nr_docs"
   ]
  },
  {
   "cell_type": "code",
   "execution_count": 7,
   "metadata": {},
   "outputs": [
    {
     "name": "stdout",
     "output_type": "stream",
     "text": [
      "['User 1', 'User 2']\n",
      "[[ 1 -1  0  0  0  1  0  0  0  0  0  0  0  0  0  1  0  0 -1  0]\n",
      " [-1  1  0  1  0  0  0  0  0  0  0 -1  0  0  0  0  1  0  0  0]]\n",
      "nr_users 2\n"
     ]
    }
   ],
   "source": [
    "user_ratings = csv_load(\"user_ratings.csv\", delimiter=\",\")\n",
    "user_names = user_ratings[0]\n",
    "user_ratings = user_ratings[1:]\n",
    "user_ratings = np.array(user_ratings, dtype=int).T\n",
    "\n",
    "nr_users = user_ratings.shape[0]\n",
    "\n",
    "print(user_names)\n",
    "print(user_ratings)\n",
    "print(\"nr_users\", nr_users)\n",
    "\n",
    "assert user_ratings.shape[1] == nr_docs"
   ]
  },
  {
   "cell_type": "markdown",
   "metadata": {},
   "source": [
    "# Part 1. Build and use a very basic profile\n",
    "\n",
    "First, you will build a very simple profile of user preferences for attributes. In this profile, you’ll count the total the number of positive and negative evaluations associated with each attribute, and create a profile with the total score for each attribute for each user. For example, user 1’s score for “Family” will get a +1 from doc1 (positive evaluation) and a -1 from doc 19 (negative evaluation) for a total profile value of 0 (neutral). In contrast, user 2’s score for Europe will be +3 (+1 each for doc2, doc4, and doc17).\n",
    "\n",
    "You can compute the profiles and place them in the “User Profiles” section of the spreadsheet.\n",
    "\n",
    "Now compute the predicted score for each user for each document (a simple dot-product). Type in the answers to the following questions (answers may include already-rated articles) as part of the Quiz:\n",
    "\n",
    " - Which document does the simple profile predict user 1 will like best?\n",
    " - What score does that prediction get?\n",
    " - How many documents does the model predict user 2 will dislike (prediction score that is negative)?\n",
    "\n",
    "Notice that this model is consistent with the users’ ratings -- it predicts liking for all the positive documents and disliking for all the negative ones.\n"
   ]
  },
  {
   "cell_type": "code",
   "execution_count": 12,
   "metadata": {},
   "outputs": [
    {
     "name": "stdout",
     "output_type": "stream",
     "text": [
      "['baseball', 'economics', 'politics', 'Europe', 'Asia', 'soccer', 'war', 'security', 'shopping', 'family']\n",
      "[[ 3 -2 -1  0  0  2 -1 -1  1  0]\n",
      " [-2  2  2  3 -1 -2  0  3  0 -1]]\n"
     ]
    }
   ],
   "source": [
    "def get_user_profiles(user_ratings, doc_tags):\n",
    "    user_profiles = []\n",
    "    for user_rating in user_ratings:\n",
    "        user_profiles.append(sum(user_rating.reshape(-1, 1) * doc_tags, axis=0))\n",
    "\n",
    "    return np.stack(user_profiles)\n",
    "\n",
    "user_profiles = get_user_profiles(user_ratings, doc_tags)\n",
    "print(tag_names)\n",
    "print(user_profiles)"
   ]
  },
  {
   "cell_type": "code",
   "execution_count": 19,
   "metadata": {
    "scrolled": true
   },
   "outputs": [
    {
     "data": {
      "text/plain": [
       "[[('doc16', 3.3335847797553408),\n",
       "  ('doc12', 2.3090209150657572),\n",
       "  ('doc1', 2.2562345105657151),\n",
       "  ('doc6', 1.9387774270626785),\n",
       "  ('doc9', 1.6019141338792098),\n",
       "  ('doc3', 1.2316706458761313),\n",
       "  ('doc18', 0.7844570503761733),\n",
       "  ('doc15', 0.28445705037617341),\n",
       "  ('doc11', 0.077350269189625842),\n",
       "  ('doc20', -0.16275654512378457),\n",
       "  ('doc5', -0.36986332631033203),\n",
       "  ('doc7', -0.5),\n",
       "  ('doc14', -0.66275654512378457),\n",
       "  ('doc8', -0.74010681431341041),\n",
       "  ('doc13', -0.79289321881345254),\n",
       "  ('doc4', -1.2401068143134104),\n",
       "  ('doc10', -1.3944271909999157),\n",
       "  ('doc2', -1.7401068143134104),\n",
       "  ('doc17', -1.7401068143134104),\n",
       "  ('doc19', -1.8944271909999157)],\n",
       " [('doc2', 5.0527864045000417),\n",
       "  ('doc17', 5.0527864045000417),\n",
       "  ('doc4', 3.9754361353104164),\n",
       "  ('doc13', 3.6055728090000843),\n",
       "  ('doc14', 3.5527864045000421),\n",
       "  ('doc20', 2.4754361353104164),\n",
       "  ('doc8', 2.0282225398104585),\n",
       "  ('doc15', 1.8980858661207902),\n",
       "  ('doc18', 1.5),\n",
       "  ('doc19', 1.0810089443105007),\n",
       "  ('doc7', 1.0527864045000421),\n",
       "  ('doc11', 0.60557280900008426),\n",
       "  ('doc5', 0.55278640450004213),\n",
       "  ('doc10', 0.47543613531041629),\n",
       "  ('doc6', 0.47543613531041617),\n",
       "  ('doc3', 0.028222539810458303),\n",
       "  ('doc9', -1.0245638646895838),\n",
       "  ('doc1', -1.8907685158790413),\n",
       "  ('doc16', -2.0491277293791677),\n",
       "  ('doc12', -2.1264779985687934)]]"
      ]
     },
     "execution_count": 19,
     "metadata": {},
     "output_type": "execute_result"
    }
   ],
   "source": [
    "def get_user_doc_predictions(user_profiles, doc_tags):\n",
    "    user_predictions_list = []\n",
    "    user_doc_predictions= np.matmul(user_profiles, doc_tags.T)\n",
    "    for user_doc_prediction in user_doc_predictions:\n",
    "        user_predictions = sorted(zip(doc_names, user_doc_prediction), reverse=True, key=lambda x: x[1])\n",
    "        user_predictions_list.append(user_predictions)\n",
    "    return user_predictions_list\n",
    "        \n",
    "predictions = get_user_doc_predictions(user_profiles, doc_tags)\n",
    "predictions"
   ]
  },
  {
   "cell_type": "markdown",
   "metadata": {},
   "source": [
    "## Part 2. Next, let’s treat all articles as having unit weight ...\n",
    "\n",
    "You may have noticed that in our computation an article that had many attributes checked could have more influence on the overall profile than one that had only a few. doc 1 and doc 19 each have five attributes, while doc6, doc7, and doc18 only have 2 attributes each.\n",
    "\n",
    "We want to explore whether our simple model may be counting these attribute-heavy documents too much. For example, we might conclude that liking doc6 says more about liking baseball (since it is one of only two attributes for the article along with Europe) than liking doc1 says (since doc1 is also about politics, Asia, soccer, and family).\n",
    "\n",
    "To try this out, make a copy of the attributes matrix on another sheet. Then we’re going to have you normalize each row to be a unit length vector. We can do this in two steps:\n",
    "\n",
    "1. Count the total number of items in the row (you can do this via SUM or COUNT function).\n",
    "1. Divide each value by the square root of that number of items. If you do this right, doc1’s values will all change from 1 to 0.447214 (approx). Documents with 4 attributes will change to 0.5 (since 4 * .5^2 = 1), and so forth. Remember, don’t have the SUM or COUNT depend on the copy of the cells you’re changing or you’ll get a circular dependency. Have your new sheet depend on values on your old sheet.\n",
    "\n",
    "Once you have the new values, compute your second set of user profiles and new predictions. If you did this right, you’ll see a prediction of 1.0090 (approx) for user1/doc1. Don’t worry about the scale of the numbers (they’ll all be smaller, in absolute value terms), but look at the order of them.\n",
    "\n",
    "This time we’ll start with user2. With our simple profile, doc7 and doc19 both had similar “like” predictions (+2 each). Now they don’t. Let's see what values are predicted for the second model:\n",
    "\n",
    "doc7: 0.7444 (plus or minus 0.01)\n",
    "\n",
    "doc 19: 0.4834 (plus or minus 0.01)\n",
    "\n",
    "The difference here can be seen by looking at the profile attribute values. Doc7 is 50% about one of user2’s favorite topics (security) which is now more heavily emphasized).\n",
    "\n",
    "Now let’s look at user 1. While user 1's first-place document is the same in both models, that isn't true for other places. In our simple model, the second/third place recommendation was a tie between doc1 and doc 12. Neither of those is in second place with this new model.\n",
    "\n",
    "Type in the answers to the following questions as part of the Quiz:\n",
    " \n",
    " - Which document is now in second with this new model?\n",
    " - What prediction score does it have?"
   ]
  },
  {
   "cell_type": "code",
   "execution_count": 28,
   "metadata": {
    "scrolled": false
   },
   "outputs": [
    {
     "data": {
      "text/plain": [
       "[[('doc16', 1.9246460699581855),\n",
       "  ('doc6', 1.3709226658874269),\n",
       "  ('doc12', 1.3331138468776909),\n",
       "  ('doc9', 1.132724346944564),\n",
       "  ('doc1', 1.0090187477611812),\n",
       "  ('doc3', 0.71110537894954473),\n",
       "  ('doc18', 0.55469489987058918),\n",
       "  ('doc15', 0.14222852518808671),\n",
       "  ('doc11', 0.044658198738520505),\n",
       "  ('doc20', -0.081378272561892284),\n",
       "  ('doc5', -0.21354069100864065),\n",
       "  ('doc14', -0.33137827256189228),\n",
       "  ('doc7', -0.35355339059327373),\n",
       "  ('doc8', -0.37005340715670521),\n",
       "  ('doc13', -0.39644660940672627),\n",
       "  ('doc4', -0.62005340715670521),\n",
       "  ('doc10', -0.80507291408913528),\n",
       "  ('doc19', -0.84721359549995789),\n",
       "  ('doc2', -0.87005340715670521),\n",
       "  ('doc17', -0.87005340715670521)],\n",
       " [('doc2', 2.5263932022500208),\n",
       "  ('doc17', 2.5263932022500208),\n",
       "  ('doc4', 1.9877180676552082),\n",
       "  ('doc13', 1.8027864045000421),\n",
       "  ('doc14', 1.7763932022500211),\n",
       "  ('doc20', 1.2377180676552082),\n",
       "  ('doc18', 1.0606601717798212),\n",
       "  ('doc8', 1.0141112699052293),\n",
       "  ('doc15', 0.94904293306039511),\n",
       "  ('doc7', 0.74443240576298331),\n",
       "  ('doc19', 0.48344189675271271),\n",
       "  ('doc11', 0.34962762429011646),\n",
       "  ('doc6', 0.33618411529912018),\n",
       "  ('doc5', 0.31915137944246469),\n",
       "  ('doc10', 0.27449318070394418),\n",
       "  ('doc3', 0.016294290956783),\n",
       "  ('doc9', -0.72447605648070101),\n",
       "  ('doc1', -0.84557738624438539),\n",
       "  ('doc16', -1.1830644461609892),\n",
       "  ('doc12', -1.2277226448995096)]]"
      ]
     },
     "execution_count": 28,
     "metadata": {},
     "output_type": "execute_result"
    }
   ],
   "source": [
    "doc_tags_normed = doc_tags / np.linalg.norm(doc_tags, ord=2, axis=1, keepdims=True)\n",
    "user_profiles = user_profiles = get_user_profiles(user_ratings, doc_tags_normed)\n",
    "predictions_normed = get_user_doc_predictions(user_profiles, doc_tags_normed)\n",
    "predictions_normed"
   ]
  },
  {
   "cell_type": "code",
   "execution_count": null,
   "metadata": {},
   "outputs": [],
   "source": []
  },
  {
   "cell_type": "code",
   "execution_count": 29,
   "metadata": {},
   "outputs": [
    {
     "data": {
      "text/plain": [
       "[(('doc16', 3.3335847797553408), ('doc16', 1.9246460699581855)),\n",
       " (('doc12', 2.3090209150657572), ('doc6', 1.3709226658874269)),\n",
       " (('doc1', 2.2562345105657151), ('doc12', 1.3331138468776909)),\n",
       " (('doc6', 1.9387774270626785), ('doc9', 1.132724346944564)),\n",
       " (('doc9', 1.6019141338792098), ('doc1', 1.0090187477611812)),\n",
       " (('doc3', 1.2316706458761313), ('doc3', 0.71110537894954473)),\n",
       " (('doc18', 0.7844570503761733), ('doc18', 0.55469489987058918)),\n",
       " (('doc15', 0.28445705037617341), ('doc15', 0.14222852518808671)),\n",
       " (('doc11', 0.077350269189625842), ('doc11', 0.044658198738520505)),\n",
       " (('doc20', -0.16275654512378457), ('doc20', -0.081378272561892284)),\n",
       " (('doc5', -0.36986332631033203), ('doc5', -0.21354069100864065)),\n",
       " (('doc7', -0.5), ('doc14', -0.33137827256189228)),\n",
       " (('doc14', -0.66275654512378457), ('doc7', -0.35355339059327373)),\n",
       " (('doc8', -0.74010681431341041), ('doc8', -0.37005340715670521)),\n",
       " (('doc13', -0.79289321881345254), ('doc13', -0.39644660940672627)),\n",
       " (('doc4', -1.2401068143134104), ('doc4', -0.62005340715670521)),\n",
       " (('doc10', -1.3944271909999157), ('doc10', -0.80507291408913528)),\n",
       " (('doc2', -1.7401068143134104), ('doc19', -0.84721359549995789)),\n",
       " (('doc17', -1.7401068143134104), ('doc2', -0.87005340715670521)),\n",
       " (('doc19', -1.8944271909999157), ('doc17', -0.87005340715670521))]"
      ]
     },
     "execution_count": 29,
     "metadata": {},
     "output_type": "execute_result"
    }
   ],
   "source": [
    "list(zip(predictions[0], predictions_normed[0]))"
   ]
  },
  {
   "cell_type": "code",
   "execution_count": 30,
   "metadata": {},
   "outputs": [
    {
     "data": {
      "text/plain": [
       "[(('doc2', 5.0527864045000417), ('doc2', 2.5263932022500208)),\n",
       " (('doc17', 5.0527864045000417), ('doc17', 2.5263932022500208)),\n",
       " (('doc4', 3.9754361353104164), ('doc4', 1.9877180676552082)),\n",
       " (('doc13', 3.6055728090000843), ('doc13', 1.8027864045000421)),\n",
       " (('doc14', 3.5527864045000421), ('doc14', 1.7763932022500211)),\n",
       " (('doc20', 2.4754361353104164), ('doc20', 1.2377180676552082)),\n",
       " (('doc8', 2.0282225398104585), ('doc18', 1.0606601717798212)),\n",
       " (('doc15', 1.8980858661207902), ('doc8', 1.0141112699052293)),\n",
       " (('doc18', 1.5), ('doc15', 0.94904293306039511)),\n",
       " (('doc19', 1.0810089443105007), ('doc7', 0.74443240576298331)),\n",
       " (('doc7', 1.0527864045000421), ('doc19', 0.48344189675271271)),\n",
       " (('doc11', 0.60557280900008426), ('doc11', 0.34962762429011646)),\n",
       " (('doc5', 0.55278640450004213), ('doc6', 0.33618411529912018)),\n",
       " (('doc10', 0.47543613531041629), ('doc5', 0.31915137944246469)),\n",
       " (('doc6', 0.47543613531041617), ('doc10', 0.27449318070394418)),\n",
       " (('doc3', 0.028222539810458303), ('doc3', 0.016294290956783)),\n",
       " (('doc9', -1.0245638646895838), ('doc9', -0.72447605648070101)),\n",
       " (('doc1', -1.8907685158790413), ('doc1', -0.84557738624438539)),\n",
       " (('doc16', -2.0491277293791677), ('doc16', -1.1830644461609892)),\n",
       " (('doc12', -2.1264779985687934), ('doc12', -1.2277226448995096))]"
      ]
     },
     "execution_count": 30,
     "metadata": {},
     "output_type": "execute_result"
    }
   ],
   "source": [
    "list(zip(predictions[1], predictions_normed[1]))"
   ]
  },
  {
   "cell_type": "markdown",
   "metadata": {},
   "source": [
    "## Part 3. Finally, let’s consider how common different terms are among our documents …\n",
    "\n",
    "We’re going to do one more model -- one that accounts for the fact the the content attributes have vastly different frequencies.\n",
    "\n",
    "We’re going to include an IDF (inverse document frequency) term into our equation. Start with your spreadsheet from part 2. Add a row that shows 1/DF where DF is the number of documents in which each content attribute occurs. For example, baseball occurs in 4 documents, so baseball’s entry will be 0.25. Politics occurs in 10 documents, so it will get an IDF score of 0.1 (1 / 10).\n",
    "\n",
    "Note that this is far more dramatic a computation than is usually used with large datasets (more common is 1 / log(DF)), but we need a dramatic value to see differences with a small dataset.\n",
    "\n",
    "Next, update your prediction formula to do a three-way dot product: document vector * profile * IDF (fortunately, SUMPRODUCT can handle a third array). If you did this right, you’ll see a prediction of about 0.2476 for user1/doc1.\n",
    "\n",
    "Ok, now let’s look at the results.\n",
    "\n",
    "Type in the answers to the following questions into the Quiz:\n",
    "\n",
    " - Compare doc1 and doc9 for user1. What’s user1’s prediction for doc9 in the new IDF weighted model? See how there’s a dramatic difference from the prior model?\n",
    " - Now let’s look at user 2. Look at doc6. It was moderately positive before and now is slightly negative. Why did that change?"
   ]
  },
  {
   "cell_type": "code",
   "execution_count": 31,
   "metadata": {
    "scrolled": true
   },
   "outputs": [
    {
     "data": {
      "text/plain": [
       "[[('doc16', 0.39615287985188608),\n",
       "  ('doc6', 0.31943234224805939),\n",
       "  ('doc12', 0.31164827655467259),\n",
       "  ('doc1', 0.2476124657905287),\n",
       "  ('doc9', 0.17906719376543057),\n",
       "  ('doc3', 0.10945899074393546),\n",
       "  ('doc18', 0.071634512479864618),\n",
       "  ('doc15', 0.021183771740190184),\n",
       "  ('doc11', 0.01875153415956634),\n",
       "  ('doc20', -0.0062905787084923427),\n",
       "  ('doc5', -0.043526623104614706),\n",
       "  ('doc8', -0.047529883650608472),\n",
       "  ('doc14', -0.05328121675015849),\n",
       "  ('doc13', -0.057252722067278147),\n",
       "  ('doc7', -0.058925565098878953),\n",
       "  ('doc4', -0.089196550317275136),\n",
       "  ('doc19', -0.12153324130475628),\n",
       "  ('doc10', -0.12803122640182821),\n",
       "  ('doc2', -0.13618718835894128),\n",
       "  ('doc17', -0.13618718835894128)],\n",
       " [('doc2', 0.32915447174015361),\n",
       "  ('doc17', 0.32915447174015361),\n",
       "  ('doc4', 0.24029611917898988),\n",
       "  ('doc13', 0.2085533387818238),\n",
       "  ('doc14', 0.20415447174015361),\n",
       "  ('doc20', 0.11529611917898988),\n",
       "  ('doc7', 0.11353114209326928),\n",
       "  ('doc15', 0.10227647689652244),\n",
       "  ('doc18', 0.096423651979983732),\n",
       "  ('doc8', 0.07057475962899408),\n",
       "  ('doc10', 0.046812153896812612),\n",
       "  ('doc5', 0.044585266915505399),\n",
       "  ('doc19', 0.043342577813484461),\n",
       "  ('doc11', 0.017749503112534246),\n",
       "  ('doc3', -0.062892269975720907),\n",
       "  ('doc6', -0.084695362140191521),\n",
       "  ('doc9', -0.12074600941345015),\n",
       "  ('doc1', -0.21716749806965679),\n",
       "  ('doc16', -0.24647175961687273),\n",
       "  ('doc12', -0.25285150229380421)]]"
      ]
     },
     "execution_count": 31,
     "metadata": {},
     "output_type": "execute_result"
    }
   ],
   "source": [
    "idf = 1 / np.sum(doc_tags, axis=0, keepdims=True)\n",
    "doc_tags_normed_idf = doc_tags_normed * idf\n",
    "predictions_normed_idf = get_user_doc_predictions(user_profiles, doc_tags_normed_idf)\n",
    "predictions_normed_idf"
   ]
  },
  {
   "cell_type": "code",
   "execution_count": 32,
   "metadata": {},
   "outputs": [
    {
     "data": {
      "text/plain": [
       "[(('doc16', 1.9246460699581855), ('doc16', 0.39615287985188608)),\n",
       " (('doc6', 1.3709226658874269), ('doc6', 0.31943234224805939)),\n",
       " (('doc12', 1.3331138468776909), ('doc12', 0.31164827655467259)),\n",
       " (('doc9', 1.132724346944564), ('doc1', 0.2476124657905287)),\n",
       " (('doc1', 1.0090187477611812), ('doc9', 0.17906719376543057)),\n",
       " (('doc3', 0.71110537894954473), ('doc3', 0.10945899074393546)),\n",
       " (('doc18', 0.55469489987058918), ('doc18', 0.071634512479864618)),\n",
       " (('doc15', 0.14222852518808671), ('doc15', 0.021183771740190184)),\n",
       " (('doc11', 0.044658198738520505), ('doc11', 0.01875153415956634)),\n",
       " (('doc20', -0.081378272561892284), ('doc20', -0.0062905787084923427)),\n",
       " (('doc5', -0.21354069100864065), ('doc5', -0.043526623104614706)),\n",
       " (('doc14', -0.33137827256189228), ('doc8', -0.047529883650608472)),\n",
       " (('doc7', -0.35355339059327373), ('doc14', -0.05328121675015849)),\n",
       " (('doc8', -0.37005340715670521), ('doc13', -0.057252722067278147)),\n",
       " (('doc13', -0.39644660940672627), ('doc7', -0.058925565098878953)),\n",
       " (('doc4', -0.62005340715670521), ('doc4', -0.089196550317275136)),\n",
       " (('doc10', -0.80507291408913528), ('doc19', -0.12153324130475628)),\n",
       " (('doc19', -0.84721359549995789), ('doc10', -0.12803122640182821)),\n",
       " (('doc2', -0.87005340715670521), ('doc2', -0.13618718835894128)),\n",
       " (('doc17', -0.87005340715670521), ('doc17', -0.13618718835894128))]"
      ]
     },
     "execution_count": 32,
     "metadata": {},
     "output_type": "execute_result"
    }
   ],
   "source": [
    "list(zip(predictions_normed[0], predictions_normed_idf[0]))"
   ]
  },
  {
   "cell_type": "code",
   "execution_count": 33,
   "metadata": {},
   "outputs": [
    {
     "data": {
      "text/plain": [
       "[(('doc2', 2.5263932022500208), ('doc2', 0.32915447174015361)),\n",
       " (('doc17', 2.5263932022500208), ('doc17', 0.32915447174015361)),\n",
       " (('doc4', 1.9877180676552082), ('doc4', 0.24029611917898988)),\n",
       " (('doc13', 1.8027864045000421), ('doc13', 0.2085533387818238)),\n",
       " (('doc14', 1.7763932022500211), ('doc14', 0.20415447174015361)),\n",
       " (('doc20', 1.2377180676552082), ('doc20', 0.11529611917898988)),\n",
       " (('doc18', 1.0606601717798212), ('doc7', 0.11353114209326928)),\n",
       " (('doc8', 1.0141112699052293), ('doc15', 0.10227647689652244)),\n",
       " (('doc15', 0.94904293306039511), ('doc18', 0.096423651979983732)),\n",
       " (('doc7', 0.74443240576298331), ('doc8', 0.07057475962899408)),\n",
       " (('doc19', 0.48344189675271271), ('doc10', 0.046812153896812612)),\n",
       " (('doc11', 0.34962762429011646), ('doc5', 0.044585266915505399)),\n",
       " (('doc6', 0.33618411529912018), ('doc19', 0.043342577813484461)),\n",
       " (('doc5', 0.31915137944246469), ('doc11', 0.017749503112534246)),\n",
       " (('doc10', 0.27449318070394418), ('doc3', -0.062892269975720907)),\n",
       " (('doc3', 0.016294290956783), ('doc6', -0.084695362140191521)),\n",
       " (('doc9', -0.72447605648070101), ('doc9', -0.12074600941345015)),\n",
       " (('doc1', -0.84557738624438539), ('doc1', -0.21716749806965679)),\n",
       " (('doc16', -1.1830644461609892), ('doc16', -0.24647175961687273)),\n",
       " (('doc12', -1.2277226448995096), ('doc12', -0.25285150229380421))]"
      ]
     },
     "execution_count": 33,
     "metadata": {},
     "output_type": "execute_result"
    }
   ],
   "source": [
    "list(zip(predictions_normed[1], predictions_normed_idf[1]))"
   ]
  },
  {
   "cell_type": "code",
   "execution_count": null,
   "metadata": {
    "collapsed": true
   },
   "outputs": [],
   "source": []
  },
  {
   "cell_type": "code",
   "execution_count": null,
   "metadata": {
    "collapsed": true
   },
   "outputs": [],
   "source": []
  },
  {
   "cell_type": "code",
   "execution_count": null,
   "metadata": {
    "collapsed": true
   },
   "outputs": [],
   "source": []
  }
 ],
 "metadata": {
  "kernelspec": {
   "display_name": "Python 3",
   "language": "python",
   "name": "python3"
  },
  "language_info": {
   "codemirror_mode": {
    "name": "ipython",
    "version": 3
   },
   "file_extension": ".py",
   "mimetype": "text/x-python",
   "name": "python",
   "nbconvert_exporter": "python",
   "pygments_lexer": "ipython3",
   "version": "3.5.2"
  }
 },
 "nbformat": 4,
 "nbformat_minor": 2
}
