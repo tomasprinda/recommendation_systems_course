{
 "cells": [
  {
   "cell_type": "code",
   "execution_count": 33,
   "metadata": {
    "collapsed": true,
    "scrolled": true
   },
   "outputs": [],
   "source": [
    "# Introduction to Recommender Systems: Non-Personalized and Content-Based\n",
    "## Assignment 01"
   ]
  },
  {
   "cell_type": "code",
   "execution_count": null,
   "metadata": {
    "collapsed": true
   },
   "outputs": [],
   "source": [
    "from pprint import pprint\n",
    "import numpy as np\n",
    "from scipy.stats import pearsonr\n",
    "\n",
    "def json_load(filename):\n",
    "    import json\n",
    "    with open(filename, \"r\") as f:\n",
    "        return json.load(f)\n"
   ]
  },
  {
   "cell_type": "code",
   "execution_count": 127,
   "metadata": {
    "scrolled": true
   },
   "outputs": [
    {
     "name": "stdout",
     "output_type": "stream",
     "text": [
      "['User', 'Gender (1 =F, 0=M)']\n",
      "nr_users 20\n",
      "array([[ 755,    0],\n",
      "       [5277,    0],\n",
      "       [1577,    1],\n",
      "       [4388,    0],\n",
      "       [1202,    1],\n",
      "       [3823,    1],\n",
      "       [5448,    0],\n",
      "       [5347,    0],\n",
      "       [4117,    1],\n",
      "       [2765,    0],\n",
      "       [5450,    1],\n",
      "       [ 139,    0],\n",
      "       [1940,    0],\n",
      "       [3118,    1],\n",
      "       [4656,    1],\n",
      "       [4796,    1],\n",
      "       [6037,    0],\n",
      "       [3048,    1],\n",
      "       [4790,    0],\n",
      "       [4489,    0]])\n",
      "nr_movies 20\n",
      "['260: Star Wars: Episode IV - A New Hope (1977)',\n",
      " '1210: Star Wars: Episode VI - Return of the Jedi (1983)',\n",
      " '356: Forrest Gump (1994)',\n",
      " '318: Shawshank Redemption, The (1994)',\n",
      " '593: Silence of the Lambs, The (1991)',\n",
      " '3578: Gladiator (2000)',\n",
      " '1: Toy Story (1995)',\n",
      " '2028: Saving Private Ryan (1998)',\n",
      " '296: Pulp Fiction (1994)',\n",
      " '1259: Stand by Me (1986)',\n",
      " '2396: Shakespeare in Love (1998)',\n",
      " '2916: Total Recall (1990)',\n",
      " '780: Independence Day (ID4) (1996)',\n",
      " '541: Blade Runner (1982)',\n",
      " '1265: Groundhog Day (1993)',\n",
      " '2571: Matrix, The (1999)',\n",
      " \"527: Schindler's List (1993)\",\n",
      " '2762: Sixth Sense, The (1999)',\n",
      " '1198: Raiders of the Lost Ark (1981)',\n",
      " '34: Babe (1995)']\n",
      "[[  1.   5.   2.  nan   4.   4.   2.   2.  nan   3.   2.  nan   5.   2.\n",
      "   nan   4.   2.   5.  nan  nan]\n",
      " [  5.   3.  nan   2.   4.   2.   1.  nan  nan   4.   3.   2.   2.  nan\n",
      "    2.  nan   5.   1.   3.  nan]\n",
      " [ nan  nan  nan   5.   2.  nan   4.  nan  nan   1.  nan   1.   4.   4.\n",
      "    1.   1.   2.   3.   1.   3.]\n",
      " [ nan   3.  nan  nan  nan   1.   2.   3.   4.  nan  nan   4.   1.   3.\n",
      "    5.  nan   5.   1.   1.   2.]\n",
      " [  4.   3.   4.   1.   4.   1.  nan   4.  nan   1.   5.   1.  nan   4.\n",
      "   nan   3.   5.   5.  nan  nan]\n",
      " [  2.   4.   4.   4.  nan  nan   3.   1.   4.   4.   5.   2.   4.  nan\n",
      "    1.  nan  nan   3.  nan   2.]\n",
      " [ nan  nan   3.   1.   1.   4.  nan   5.   2.  nan   1.  nan  nan   3.\n",
      "   nan   1.  nan  nan   5.   2.]\n",
      " [  4.  nan  nan  nan   3.   2.   2.  nan   3.  nan  nan   2.   3.   2.\n",
      "    4.  nan   1.   3.   5.  nan]\n",
      " [  5.   1.  nan   4.   2.   4.   4.   4.  nan   1.   2.   3.   1.  nan\n",
      "    5.  nan  nan  nan  nan   5.]\n",
      " [  4.   2.  nan   5.   3.  nan   4.   3.   4.  nan  nan  nan   2.  nan\n",
      "   nan   2.   5.   1.  nan  nan]\n",
      " [  2.   1.   5.  nan  nan   5.   5.  nan  nan  nan  nan   3.   2.  nan\n",
      "   nan   1.  nan   2.   1.   4.]\n",
      " [  3.   5.   2.  nan   2.  nan   2.  nan   1.  nan   3.  nan   3.  nan\n",
      "    2.   5.  nan  nan  nan   2.]\n",
      " [  2.   3.  nan   5.   4.  nan   4.   5.  nan  nan  nan   2.   4.  nan\n",
      "    3.  nan  nan  nan   5.  nan]\n",
      " [  3.  nan   3.  nan   2.  nan   3.  nan  nan   4.  nan   1.   2.   2.\n",
      "    3.   5.   1.  nan  nan  nan]\n",
      " [  4.   4.  nan  nan   5.   5.   2.  nan   3.   5.  nan   1.   3.  nan\n",
      "    2.  nan   3.  nan   3.   1.]\n",
      " [ nan  nan   1.  nan   3.   2.  nan   2.  nan   1.   5.  nan  nan  nan\n",
      "    5.   2.   2.   4.   3.   4.]\n",
      " [ nan  nan  nan  nan   4.  nan   2.  nan   2.  nan   2.  nan  nan  nan\n",
      "   nan   4.  nan  nan  nan  nan]\n",
      " [  4.   5.   1.   5.   1.   1.   4.  nan   5.  nan  nan  nan  nan   4.\n",
      "   nan  nan   2.   1.   2.   5.]\n",
      " [  5.   1.  nan  nan  nan   4.   2.   1.   3.   3.   3.   1.  nan  nan\n",
      "   nan   2.  nan  nan  nan  nan]\n",
      " [  1.   2.   2.   4.   5.  nan   2.   3.   2.   2.   1.  nan  nan   5.\n",
      "    5.   4.   3.   5.   3.  nan]]\n"
     ]
    }
   ],
   "source": [
    "rating_data = csv_load(\"HW1-data.csv\", delimiter=\",\")\n",
    "head, rating_data = rating_data[0], rating_data[1:]\n",
    "\n",
    "movies = head[2:]\n",
    "users_head = head[:2]\n",
    "\n",
    "users = np.array([row[:2] for row in rating_data]).astype(int)\n",
    "rating_data = [row[2:] for row in rating_data]\n",
    "\n",
    "fill_nans = np.vectorize(lambda x: x if x != \"\" else \"NaN\")\n",
    "ratings = np.array(fill_nans(rating_data)).astype(float)\n",
    "\n",
    "\n",
    "nr_users, nr_movies = ratings.shape\n",
    "\n",
    "pprint(users_head)\n",
    "print(\"nr_users\", nr_users)\n",
    "pprint(users)\n",
    "print(\"nr_movies\", nr_movies)\n",
    "pprint(movies)\n",
    "print(ratings)"
   ]
  },
  {
   "cell_type": "markdown",
   "metadata": {},
   "source": [
    "# What is the movie (movie ID number) with the highest mean rating?"
   ]
  },
  {
   "cell_type": "code",
   "execution_count": 65,
   "metadata": {},
   "outputs": [
    {
     "name": "stdout",
     "output_type": "stream",
     "text": [
      "[(3.6000000000000001, '318: Shawshank Redemption, The (1994)'),\n",
      " (3.2666666666666666, '260: Star Wars: Episode IV - A New Hope (1977)'),\n",
      " (3.2222222222222223, '541: Blade Runner (1982)'),\n",
      " (3.1666666666666665, '1265: Groundhog Day (1993)'),\n",
      " (3.0625, '593: Silence of the Lambs, The (1991)'),\n",
      " (3.0, \"527: Schindler's List (1993)\"),\n",
      " (3.0, '34: Babe (1995)'),\n",
      " (3.0, '296: Pulp Fiction (1994)'),\n",
      " (3.0, '2028: Saving Private Ryan (1998)'),\n",
      " (3.0, '1210: Star Wars: Episode VI - Return of the Jedi (1983)'),\n",
      " (2.9166666666666665, '3578: Gladiator (2000)'),\n",
      " (2.9090909090909092, '2396: Shakespeare in Love (1998)'),\n",
      " (2.9090909090909092, '1198: Raiders of the Lost Ark (1981)'),\n",
      " (2.8333333333333335, '2762: Sixth Sense, The (1999)'),\n",
      " (2.8333333333333335, '2571: Matrix, The (1999)'),\n",
      " (2.8235294117647061, '1: Toy Story (1995)'),\n",
      " (2.7692307692307692, '780: Independence Day (ID4) (1996)'),\n",
      " (2.7000000000000002, '356: Forrest Gump (1994)'),\n",
      " (2.6363636363636362, '1259: Stand by Me (1986)'),\n",
      " (1.9166666666666667, '2916: Total Recall (1990)')]\n"
     ]
    }
   ],
   "source": [
    "movies_avg_ratings = np.nanmean(ratings, axis=0)\n",
    "movies_by_avg_rating = sorted(zip(movies_avg_ratings, movies), reverse=True)\n",
    "pprint(movies_by_avg_rating)"
   ]
  },
  {
   "cell_type": "markdown",
   "metadata": {},
   "source": [
    "# Top Movies by Count"
   ]
  },
  {
   "cell_type": "code",
   "execution_count": 93,
   "metadata": {},
   "outputs": [
    {
     "name": "stdout",
     "output_type": "stream",
     "text": [
      "[(17, '1: Toy Story (1995)'),\n",
      " (16, '593: Silence of the Lambs, The (1991)'),\n",
      " (15, '260: Star Wars: Episode IV - A New Hope (1977)'),\n",
      " (14, '1210: Star Wars: Episode VI - Return of the Jedi (1983)'),\n",
      " (13, '780: Independence Day (ID4) (1996)'),\n",
      " (12, \"527: Schindler's List (1993)\"),\n",
      " (12, '3578: Gladiator (2000)'),\n",
      " (12, '2916: Total Recall (1990)'),\n",
      " (12, '2762: Sixth Sense, The (1999)'),\n",
      " (12, '2571: Matrix, The (1999)'),\n",
      " (12, '1265: Groundhog Day (1993)'),\n",
      " (11, '296: Pulp Fiction (1994)'),\n",
      " (11, '2396: Shakespeare in Love (1998)'),\n",
      " (11, '2028: Saving Private Ryan (1998)'),\n",
      " (11, '1259: Stand by Me (1986)'),\n",
      " (11, '1198: Raiders of the Lost Ark (1981)'),\n",
      " (10, '356: Forrest Gump (1994)'),\n",
      " (10, '34: Babe (1995)'),\n",
      " (10, '318: Shawshank Redemption, The (1994)'),\n",
      " (9, '541: Blade Runner (1982)')]\n"
     ]
    }
   ],
   "source": [
    "movies_rated = np.logical_not(np.isnan(ratings))\n",
    "movies_nr_ratings = np.nansum(movies_rated, axis=0)\n",
    "movies_by_nr_ratings = sorted(zip(movies_nr_ratings, movies), reverse=True)\n",
    "pprint(movies_by_nr_ratings)"
   ]
  },
  {
   "cell_type": "markdown",
   "metadata": {},
   "source": [
    "# Top Movies by Percent Liking"
   ]
  },
  {
   "cell_type": "code",
   "execution_count": 88,
   "metadata": {},
   "outputs": [
    {
     "name": "stdout",
     "output_type": "stream",
     "text": [
      "[(0.69999999999999996, '318: Shawshank Redemption, The (1994)'),\n",
      " (0.53333333333333333, '260: Star Wars: Episode IV - A New Hope (1977)'),\n",
      " (0.5, '3578: Gladiator (2000)'),\n",
      " (0.44444444444444442, '541: Blade Runner (1982)'),\n",
      " (0.4375, '593: Silence of the Lambs, The (1991)'),\n",
      " (0.41666666666666669, '2571: Matrix, The (1999)'),\n",
      " (0.41666666666666669, '1265: Groundhog Day (1993)'),\n",
      " (0.40000000000000002, '34: Babe (1995)'),\n",
      " (0.36363636363636365, '296: Pulp Fiction (1994)'),\n",
      " (0.36363636363636365, '2028: Saving Private Ryan (1998)'),\n",
      " (0.36363636363636365, '1259: Stand by Me (1986)'),\n",
      " (0.35714285714285715,\n",
      "  '1210: Star Wars: Episode VI - Return of the Jedi (1983)'),\n",
      " (0.35294117647058826, '1: Toy Story (1995)'),\n",
      " (0.33333333333333331, \"527: Schindler's List (1993)\"),\n",
      " (0.33333333333333331, '2762: Sixth Sense, The (1999)'),\n",
      " (0.30769230769230771, '780: Independence Day (ID4) (1996)'),\n",
      " (0.29999999999999999, '356: Forrest Gump (1994)'),\n",
      " (0.27272727272727271, '2396: Shakespeare in Love (1998)'),\n",
      " (0.27272727272727271, '1198: Raiders of the Lost Ark (1981)'),\n",
      " (0.083333333333333329, '2916: Total Recall (1990)')]\n"
     ]
    },
    {
     "name": "stderr",
     "output_type": "stream",
     "text": [
      "/home/prinda/.pyenv/versions/3.5.2/envs/py3/lib/python3.5/site-packages/ipykernel_launcher.py:1: RuntimeWarning: invalid value encountered in greater_equal\n",
      "  \"\"\"Entry point for launching an IPython kernel.\n"
     ]
    }
   ],
   "source": [
    "ratings_high = (ratings >= 4).astype(float)\n",
    "ratings_high[np.isnan(ratings)] = np.nan\n",
    "movies_percent_liking = np.nanmean(ratings_high, axis=0)\n",
    "\n",
    "movies_by_percent_liking = sorted(zip(movies_percent_liking, movies), reverse=True)\n",
    "pprint(movies_by_percent_liking)"
   ]
  },
  {
   "cell_type": "markdown",
   "metadata": {},
   "source": [
    "# Association with Toy Story"
   ]
  },
  {
   "cell_type": "code",
   "execution_count": 119,
   "metadata": {},
   "outputs": [
    {
     "name": "stdout",
     "output_type": "stream",
     "text": [
      "1: Toy Story (1995)\n",
      "[(0.82352941176470584, '260: Star Wars: Episode IV - A New Hope (1977)'),\n",
      " (0.76470588235294124, '780: Independence Day (ID4) (1996)'),\n",
      " (0.76470588235294124, '593: Silence of the Lambs, The (1991)'),\n",
      " (0.76470588235294124,\n",
      "  '1210: Star Wars: Episode VI - Return of the Jedi (1983)'),\n",
      " (0.6470588235294118, '2916: Total Recall (1990)'),\n",
      " (0.6470588235294118, '1265: Groundhog Day (1993)'),\n",
      " (0.58823529411764708, \"527: Schindler's List (1993)\"),\n",
      " (0.58823529411764708, '296: Pulp Fiction (1994)'),\n",
      " (0.58823529411764708, '2762: Sixth Sense, The (1999)'),\n",
      " (0.52941176470588236, '3578: Gladiator (2000)'),\n",
      " (0.52941176470588236, '2571: Matrix, The (1999)'),\n",
      " (0.52941176470588236, '1259: Stand by Me (1986)'),\n",
      " (0.52941176470588236, '1198: Raiders of the Lost Ark (1981)'),\n",
      " (0.4705882352941177, '34: Babe (1995)'),\n",
      " (0.4705882352941177, '318: Shawshank Redemption, The (1994)'),\n",
      " (0.4705882352941177, '2396: Shakespeare in Love (1998)'),\n",
      " (0.4705882352941177, '2028: Saving Private Ryan (1998)'),\n",
      " (0.41176470588235292, '541: Blade Runner (1982)'),\n",
      " (0.41176470588235292, '356: Forrest Gump (1994)')]\n"
     ]
    }
   ],
   "source": [
    "i_toy_story = 6\n",
    "print(movies[i_toy_story])\n",
    "\n",
    "# numerator\n",
    "rated_toy_story = movies_rated[:, i_toy_story:i_toy_story+1]\n",
    "rated_together = movies_rated & np.tile(rated_toy_story, reps=[1, nr_movies])\n",
    "rated_together_percent = np.mean(rated_together, axis=0)\n",
    "\n",
    "# denumerator\n",
    "movies_percent_rated =  movies_nr_ratings / nr_users\n",
    "\n",
    "#calculation\n",
    "association_score_toy_story = rated_together_percent / movies_percent_rated[i_toy_story]\n",
    "movies_by_association_score_toy_story = sorted(zip(association_score_toy_story, movies), reverse=True)\n",
    "movies_by_association_score_toy_story = [row for row in movies_by_association_score_toy_story if row[1] != movies[i_toy_story]]\n",
    "pprint(movies_by_association_score_toy_story)"
   ]
  },
  {
   "cell_type": "markdown",
   "metadata": {},
   "source": [
    "# Correlation with Toy Story"
   ]
  },
  {
   "cell_type": "code",
   "execution_count": 122,
   "metadata": {},
   "outputs": [
    {
     "name": "stdout",
     "output_type": "stream",
     "text": [
      "[(0.88852331663863848, '318: Shawshank Redemption, The (1994)'),\n",
      " (0.81110710565381272, '34: Babe (1995)'),\n",
      " (0.70984221415202409, '296: Pulp Fiction (1994)'),\n",
      " (0.59684919052383434, '2028: Saving Private Ryan (1998)'),\n",
      " (0.52291251658379723, '356: Forrest Gump (1994)'),\n",
      " (0.32963425737213153, '541: Blade Runner (1982)'),\n",
      " (0.25339638206527132, '3578: Gladiator (2000)'),\n",
      " (0.16379642332078845, '2916: Total Recall (1990)'),\n",
      " (0.10176802973291374, '2396: Shakespeare in Love (1998)'),\n",
      " (-0.062858169121342983, '1265: Groundhog Day (1993)'),\n",
      " (-0.069923017802724891, '780: Independence Day (ID4) (1996)'),\n",
      " (-0.11900452556370296, '260: Star Wars: Episode IV - A New Hope (1977)'),\n",
      " (-0.22031522291274924, \"527: Schindler's List (1993)\"),\n",
      " (-0.24576957615571218, '2762: Sixth Sense, The (1999)'),\n",
      " (-0.30906696371450232, '1198: Raiders of the Lost Ark (1981)'),\n",
      " (-0.31450444111055242,\n",
      "  '1210: Star Wars: Episode VI - Return of the Jedi (1983)'),\n",
      " (-0.56825757070774396, '593: Silence of the Lambs, The (1991)'),\n",
      " (-0.61030010340505125, '1259: Stand by Me (1986)'),\n",
      " (-0.72199487238115534, '2571: Matrix, The (1999)')]\n"
     ]
    }
   ],
   "source": [
    "i_toy_story = 6 \n",
    "\n",
    "movies_corr_toy_story = []\n",
    "for i_movie in range(len(movies)):\n",
    "    ratings_common_toy_story = ratings[rated_together[:, i_movie], i_toy_story]\n",
    "    ratings_common_movie = ratings[rated_together[:, i_movie], i_movie]\n",
    "    corr, p_val = pearsonr(ratings_common_toy_story, ratings_common_movie)\n",
    "    movies_corr_toy_story.append(corr)\n",
    "    \n",
    "\n",
    "\n",
    "movies_by_corr_toy_story = sorted(zip(movies_corr_toy_story, movies), reverse=True)\n",
    "movies_by_corr_toy_story = [row for row in movies_by_corr_toy_story if row[1] != movies[i_toy_story]]\n",
    "pprint(movies_by_corr_toy_story)"
   ]
  },
  {
   "cell_type": "markdown",
   "metadata": {},
   "source": [
    "# Female-Male Differences in Average Rating"
   ]
  },
  {
   "cell_type": "code",
   "execution_count": 135,
   "metadata": {},
   "outputs": [
    {
     "name": "stdout",
     "output_type": "stream",
     "text": [
      "[(2.1071428571428572, '2396: Shakespeare in Love (1998)'),\n",
      " (1.4285714285714284, '34: Babe (1995)'),\n",
      " (1.375, '296: Pulp Fiction (1994)'),\n",
      " (1.2714285714285718, '1: Toy Story (1995)'),\n",
      " (0.75, '356: Forrest Gump (1994)'),\n",
      " (0.5, '541: Blade Runner (1982)'),\n",
      " (0.39999999999999991, '318: Shawshank Redemption, The (1994)'),\n",
      " (0.33333333333333348, '2762: Sixth Sense, The (1999)'),\n",
      " (0.30357142857142838, '260: Star Wars: Episode IV - A New Hope (1977)'),\n",
      " (0.16666666666666652, '3578: Gladiator (2000)'),\n",
      " (0.0, '1210: Star Wars: Episode VI - Return of the Jedi (1983)'),\n",
      " (-0.19047619047619069, '780: Independence Day (ID4) (1996)'),\n",
      " (-0.39285714285714279, '2028: Saving Private Ryan (1998)'),\n",
      " (-0.48571428571428599, '2916: Total Recall (1990)'),\n",
      " (-0.57142857142857162, '1259: Stand by Me (1986)'),\n",
      " (-0.61904761904761907, '593: Silence of the Lambs, The (1991)'),\n",
      " (-0.66666666666666652, '1265: Groundhog Day (1993)'),\n",
      " (-0.74285714285714288, '2571: Matrix, The (1999)'),\n",
      " (-1.0, \"527: Schindler's List (1993)\"),\n",
      " (-1.6666666666666665, '1198: Raiders of the Lost Ark (1981)')]\n",
      "0.041856610029\n"
     ]
    }
   ],
   "source": [
    "i_females = [i_user for i_user, (id_user, is_female) in enumerate(users) if is_female]\n",
    "i_males = [i_user for i_user, (id_user, is_female) in enumerate(users) if not is_female]\n",
    "movie_ratings_males = np.nanmean(ratings[i_males, :], axis=0)\n",
    "movie_ratings_females = np.nanmean(ratings[i_females, :], axis=0)\n",
    "\n",
    "fm_movie_diff_avg_rating = movie_ratings_females - movie_ratings_males\n",
    "movies_by_fm_movie_diff_avg_rating = sorted(zip(fm_movie_diff_avg_rating, movies), reverse=True)\n",
    "pprint(movies_by_fm_movie_diff_avg_rating)\n",
    "\n",
    "fm_difference_total = np.nanmean(ratings[i_females, :]) - np.nanmean(ratings[i_males, :])\n",
    "print(fm_difference_total)"
   ]
  },
  {
   "cell_type": "markdown",
   "metadata": {},
   "source": [
    "# Male-Female differences in Liking"
   ]
  },
  {
   "cell_type": "code",
   "execution_count": 136,
   "metadata": {},
   "outputs": [
    {
     "name": "stdout",
     "output_type": "stream",
     "text": [
      "[(0.75, '2396: Shakespeare in Love (1998)'),\n",
      " (0.5714285714285714, '34: Babe (1995)'),\n",
      " (0.55000000000000004, '541: Blade Runner (1982)'),\n",
      " (0.5, '356: Forrest Gump (1994)'),\n",
      " (0.41666666666666663, '296: Pulp Fiction (1994)'),\n",
      " (0.37142857142857139, '1: Toy Story (1995)'),\n",
      " (0.25, '1210: Star Wars: Episode VI - Return of the Jedi (1983)'),\n",
      " (0.2142857142857143, '2028: Saving Private Ryan (1998)'),\n",
      " (0.20000000000000007, '318: Shawshank Redemption, The (1994)'),\n",
      " (0.17857142857142855, '1259: Stand by Me (1986)'),\n",
      " (0.071428571428571397, '260: Star Wars: Episode IV - A New Hope (1977)'),\n",
      " (0.047619047619047616, '780: Independence Day (ID4) (1996)'),\n",
      " (0.0, '3578: Gladiator (2000)'),\n",
      " (0.0, '2762: Sixth Sense, The (1999)'),\n",
      " (-0.16666666666666669, '1265: Groundhog Day (1993)'),\n",
      " (-0.20000000000000001, '2916: Total Recall (1990)'),\n",
      " (-0.26984126984126988, '593: Silence of the Lambs, The (1991)'),\n",
      " (-0.33333333333333337, \"527: Schindler's List (1993)\"),\n",
      " (-0.37142857142857139, '2571: Matrix, The (1999)'),\n",
      " (-0.5, '1198: Raiders of the Lost Ark (1981)')]\n"
     ]
    }
   ],
   "source": [
    "movie_liking_males = np.nanmean(ratings_high[i_males, :], axis=0)\n",
    "movie_liking_females = np.nanmean(ratings_high[i_females, :], axis=0)\n",
    "\n",
    "fm_movie_diff_liking = movie_liking_females - movie_liking_males\n",
    "movies_by_fm_movie_diff_liking = sorted(zip(fm_movie_diff_liking, movies), reverse=True)\n",
    "pprint(movies_by_fm_movie_diff_liking)\n",
    "\n"
   ]
  }
 ],
 "metadata": {
  "kernelspec": {
   "display_name": "Python 3",
   "language": "python",
   "name": "python3"
  },
  "language_info": {
   "codemirror_mode": {
    "name": "ipython",
    "version": 3
   },
   "file_extension": ".py",
   "mimetype": "text/x-python",
   "name": "python",
   "nbconvert_exporter": "python",
   "pygments_lexer": "ipython3",
   "version": "3.5.2"
  }
 },
 "nbformat": 4,
 "nbformat_minor": 2
}
