{
 "cells": [
  {
   "cell_type": "code",
   "execution_count": 2,
   "metadata": {},
   "outputs": [
    {
     "name": "stdout",
     "output_type": "stream",
     "text": [
      "Populating the interactive namespace from numpy and matplotlib\n"
     ]
    }
   ],
   "source": [
    "%load_ext autoreload\n",
    "%autoreload 2\n",
    "%pylab inline\n",
    "\n",
    "from collections import defaultdict, OrderedDict, Counter\n",
    "from copy import deepcopy\n",
    "import time\n",
    "import numpy as np\n",
    "from pprint import pprint\n",
    "import matplotlib.pyplot as plt\n",
    "import matplotlib.image as mpimg\n",
    "from scipy.stats import poisson\n",
    "from datetime import date, datetime\n",
    "import uuid\n",
    "import os\n",
    "import csv\n",
    "import ujson\n",
    "import requests\n",
    "import io\n",
    "from pprint import pprint\n",
    "from dateutil import parser\n",
    "\n",
    "from tputils import *"
   ]
  },
  {
   "cell_type": "code",
   "execution_count": 3,
   "metadata": {},
   "outputs": [
    {
     "name": "stdout",
     "output_type": "stream",
     "text": [
      "user names ['1648', '5136', '918', '2824', '3867', '860', '3712', '2968', '3525', '4323', '3617', '4360', '2756', '89', '442', '3556', '5261', '2492', '5062', '2486', '4942', '2267', '4809', '3853', '2288']\n",
      "movie_names ['11: Star Wars: Episode IV - A New Hope (1977)', '12: Finding Nemo (2003)', '13: Forrest Gump (1994)', '14: American Beauty (1999)', '22: Pirates of the Caribbean: The Curse of the Black Pearl (2003)', '24: Kill Bill: Vol. 1 (2003)', '38: Eternal Sunshine of the Spotless Mind (2004)', '63: Twelve Monkeys (a.k.a. 12 Monkeys) (1995)', '77: Memento (2000)', '85: Raiders of the Lost Ark (Indiana Jones and the Raiders of the Lost Ark) (1981)', '98: Gladiator (2000)', '105: Back to the Future (1985)', '107: Snatch (2000)', '114: Pretty Woman (1990)', '120: The Lord of the Rings: The Fellowship of the Ring (2001)', '121: The Lord of the Rings: The Two Towers (2002)', '122: The Lord of the Rings: The Return of the King (2003)', '134: O Brother Where Art Thou? (2000)', '141: Donnie Darko (2001)', '146: Crouching Tiger Hidden Dragon (Wo hu cang long) (2000)', '153: Lost in Translation (2003)', '155: The Dark Knight (2008)', \"161: Ocean's Eleven (2001)\", '180: Minority Report (2002)', '187: Sin City (2005)', '194: Amelie (2001)', '197: Braveheart (1995)', '238: The Godfather (1972)', '243: High Fidelity (2000)', '268: Batman (1989)', '272: Batman Begins (2005)', '274: The Silence of the Lambs (1991)', '275: Fargo (1996)', '278: The Shawshank Redemption (1994)', '280: Terminator 2: Judgment Day (1991)', '329: Jurassic Park (1993)', '393: Kill Bill: Vol. 2 (2004)', '414: Batman Forever (1995)', \"424: Schindler's List (1993)\", '453: A Beautiful Mind (2001)', '462: Erin Brockovich (2000)', '550: Fight Club (1999)', '557: Spider-Man (2002)', '558: Spider-Man 2 (2004)', '568: Apollo 13 (1995)', '581: Dances with Wolves (1990)', '585: Monsters Inc. (2001)', '597: Titanic (1997)', '601: E.T. the Extra-Terrestrial (1982)', '602: Independence Day (a.k.a. ID4) (1996)', '603: The Matrix (1999)', '604: The Matrix Reloaded (2003)', '607: Men in Black (a.k.a. MIB) (1997)', '629: The Usual Suspects (1995)', '640: Catch Me If You Can (2002)', '641: Requiem for a Dream (2000)', '664: Twister (1996)', \"671: Harry Potter and the Sorcerer's Stone (a.k.a. Harry Potter and the Philosopher's Stone) (2001)\", '672: Harry Potter and the Chamber of Secrets (2002)', '680: Pulp Fiction (1994)', '745: The Sixth Sense (1999)', '752: V for Vendetta (2006)', '786: Almost Famous (2000)', '788: Mrs. Doubtfire (1993)', '807: Seven (a.k.a. Se7en) (1995)', '808: Shrek (2001)', '809: Shrek 2 (2004)', '812: Aladdin (1992)', '854: The Mask (1994)', '857: Saving Private Ryan (1998)', '862: Toy Story (1995)', '954: Mission: Impossible (1996)', '955: Mission: Impossible II (2000)', '1422: The Departed (2006)', '1572: Die Hard: With a Vengeance (1995)', '1597: Meet the Parents (2000)', '1637: Speed (1994)', '1891: Star Wars: Episode V - The Empire Strikes Back (1980)', '1892: Star Wars: Episode VI - Return of the Jedi (1983)', '1894: Star Wars: Episode II - Attack of the Clones (2002)', '1900: Traffic (2000)', '2024: The Patriot (2000)', '2164: Stargate (1994)', '2501: The Bourne Identity (2002)', '2502: The Bourne Supremacy (2004)', '3049: Ace Ventura: Pet Detective (1994)', \"4327: Charlie's Angels (2000)\", '5503: The Fugitive (1993)', '7443: Chicken Run (2000)', '8358: Cast Away (2000)', '8467: Dumb & Dumber (1994)', '8587: The Lion King (1994)', '9331: Clear and Present Danger (1994)', '9741: Unbreakable (2000)', '9802: The Rock (1996)', '9806: The Incredibles (2004)', '10020: Beauty and the Beast (1991)', '36657: X-Men (2000)', '36658: X2: X-Men United (2003)', '36955: True Lies (1994)']\n",
      "[[ nan  nan  nan ...,  nan  3.5  nan]\n",
      " [ 4.5  5.   5.  ...,  4.5  4.   nan]\n",
      " [ 5.   5.   4.5 ...,  nan  nan  nan]\n",
      " ..., \n",
      " [ nan  nan  4.5 ...,  nan  3.5  nan]\n",
      " [ nan  nan  3.5 ...,  3.   nan  nan]\n",
      " [ nan  3.5  3.5 ...,  4.   4.   nan]]\n",
      "nr_users 25\n",
      "nr_movies 100\n"
     ]
    }
   ],
   "source": [
    "ratings = csv_load(\"uucf_user_movie.csv\", delimiter=\";\")\n",
    "movie_names = ratings[0][1:]\n",
    "user_names = [row[0] for row in ratings[1:]]\n",
    "ratings = [row[1:] for row in ratings[1:]]\n",
    "ratings = [list(map(lambda x: \"NaN\" if x == \"\" else x, row)) for row in ratings]\n",
    "ratings = np.array(ratings, dtype=float)\n",
    "\n",
    "nr_users, nr_movies = ratings.shape\n",
    "\n",
    "print(\"user names\", user_names)\n",
    "print(\"movie_names\", movie_names)\n",
    "print(ratings)\n",
    "print(\"nr_users\", nr_users)\n",
    "print(\"nr_movies\", nr_movies)\n",
    "\n",
    "assert len(user_names) == nr_users\n",
    "assert len(movie_names) == nr_movies"
   ]
  },
  {
   "cell_type": "markdown",
   "metadata": {},
   "source": [
    "# Some useful functions"
   ]
  },
  {
   "cell_type": "code",
   "execution_count": 4,
   "metadata": {
    "collapsed": true
   },
   "outputs": [],
   "source": [
    "def get_user_names(user_ids):\n",
    "    return [user_names[user_id] for user_id in user_ids]\n",
    "\n",
    "def get_movie_names(movie_ids):\n",
    "    return [movie_names[movie_id] for movie_id in movie_ids]\n",
    "\n",
    "user_name2id = {user_name: i for i, user_name in enumerate(user_names)}\n",
    "movie_name2id = {movie_name: i for i, movie_name in enumerate(movie_names)}"
   ]
  },
  {
   "cell_type": "markdown",
   "metadata": {},
   "source": [
    "# User similarity"
   ]
  },
  {
   "cell_type": "code",
   "execution_count": 5,
   "metadata": {
    "collapsed": true
   },
   "outputs": [],
   "source": [
    "from scipy.stats import pearsonr\n",
    "\n",
    "user_sim = np.zeros((nr_users, nr_users))\n",
    "for u in range(nr_users):\n",
    "    for v in range(nr_users):\n",
    "        mask = ~np.isnan(ratings[u, :]) & ~np.isnan(ratings[v, :])\n",
    "        if sum(mask) > 0:\n",
    "            pearson_r, p_value = pearsonr(ratings[u, mask], ratings[v, mask])\n",
    "            user_sim[u, v] = pearson_r\n",
    "        else:\n",
    "            user_sim[u, v] = np.nan\n",
    "        \n",
    "        \n",
    "assert abs(user_sim[user_name2id[\"1648\"], user_name2id[\"5136\"]] - 0.40298) < 1e-4, user_sim[user_name2id[\"1648\"], user_name2id[\"5136\"]]\n",
    "assert abs(user_sim[user_name2id[\"918\"], user_name2id[\"2824\"]] - (-0.31706)) < 1e-4, user_sim[user_name2id[\"918\"], user_name2id[\"2824\"]]\n"
   ]
  },
  {
   "cell_type": "markdown",
   "metadata": {},
   "source": [
    "# Most similar users"
   ]
  },
  {
   "cell_type": "code",
   "execution_count": 6,
   "metadata": {},
   "outputs": [
    {
     "name": "stdout",
     "output_type": "stream",
     "text": [
      "[('2492', 0.4766832805451795),\n",
      " ('3853', 0.46411014776485632),\n",
      " ('2486', 0.43899155441463594),\n",
      " ('3712', 0.40027450425381639),\n",
      " ('2288', 0.37985626502293046)]\n",
      "[('4809', 0.66851595362183658),\n",
      " ('5136', 0.56244873874488843),\n",
      " ('860', 0.53906585139435725),\n",
      " ('5062', 0.52599044278760332),\n",
      " ('3525', 0.47549485227568483)]\n",
      "[('2824', 0.46291004988627571),\n",
      " ('3867', 0.40027450425381639),\n",
      " ('5062', 0.24769327229404756),\n",
      " ('442', 0.2271298649307886),\n",
      " ('3853', 0.19365960183726968)]\n"
     ]
    }
   ],
   "source": [
    "def get_most_similar_users(u, user_sim, n):\n",
    "    \n",
    "    users = list(range(u)) + list(range(u+1, nr_users))\n",
    "    similarity = np.concatenate((user_sim[u, :u], user_sim[u, u+1:]))\n",
    "    \n",
    "    similarity_users = sorted(zip(similarity, users), reverse=True)[:n]\n",
    "    similarity, users = zip(*similarity_users)\n",
    "    return list(users), list(similarity)\n",
    "    \n",
    "\n",
    "\n",
    "\n",
    "\n",
    "\n",
    "user_ids, similarity = get_most_similar_users(user_name2id[\"3867\"], user_sim, n=5)\n",
    "pprint(list(zip(get_user_names(user_ids), similarity)))\n",
    "      \n",
    "user_ids, similarity = get_most_similar_users(user_name2id[\"89\"], user_sim, n=5)\n",
    "pprint(list(zip(get_user_names(user_ids), similarity)))\n",
    "      \n",
    "user_ids, similarity = get_most_similar_users(user_name2id[\"3712\"], user_sim, n=5)\n",
    "pprint(list(zip(get_user_names(user_ids), similarity)))"
   ]
  },
  {
   "cell_type": "code",
   "execution_count": 29,
   "metadata": {
    "collapsed": true
   },
   "outputs": [],
   "source": [
    "users_avg_ratings = np.nanmean(ratings, axis=1)"
   ]
  },
  {
   "cell_type": "markdown",
   "metadata": {},
   "source": [
    "# Predictions"
   ]
  },
  {
   "cell_type": "code",
   "execution_count": 51,
   "metadata": {},
   "outputs": [
    {
     "name": "stdout",
     "output_type": "stream",
     "text": [
      "[('238: The Godfather (1972)', 5.3220150330439706),\n",
      " ('278: The Shawshank Redemption (1994)', 5.2614236920709665),\n",
      " ('275: Fargo (1996)', 5.2411105801616555),\n",
      " ('807: Seven (a.k.a. Se7en) (1995)', 5.2019839141918345),\n",
      " (\"424: Schindler's List (1993)\", 5.1992230020594077),\n",
      " ('122: The Lord of the Rings: The Return of the King (2003)',\n",
      "  5.1868459060526453),\n",
      " ('105: Back to the Future (1985)', 5.0730476796983268),\n",
      " ('550: Fight Club (1999)', 5.0699389280767129),\n",
      " ('13: Forrest Gump (1994)', 5.04907412942908),\n",
      " ('680: Pulp Fiction (1994)', 5.0468144938108459),\n",
      " ('120: The Lord of the Rings: The Fellowship of the Ring (2001)',\n",
      "  5.0186833009116798),\n",
      " ('121: The Lord of the Rings: The Two Towers (2002)', 5.0186833009116798),\n",
      " ('77: Memento (2000)', 4.9776398501099095),\n",
      " ('329: Jurassic Park (1993)', 4.9479905062556027),\n",
      " ('568: Apollo 13 (1995)', 4.9359848968242321),\n",
      " ('8587: The Lion King (1994)', 4.933097664419841),\n",
      " ('38: Eternal Sunshine of the Spotless Mind (2004)', 4.9306256550140946),\n",
      " ('453: A Beautiful Mind (2001)', 4.9224601202512632),\n",
      " ('274: The Silence of the Lambs (1991)', 4.9042736523521189),\n",
      " ('603: The Matrix (1999)', 4.9008628887037933),\n",
      " ('85: Raiders of the Lost Ark (Indiana Jones and the Raiders of the Lost Ark) '\n",
      "  '(1981)',\n",
      "  4.8505206957707143),\n",
      " ('12: Finding Nemo (2003)', 4.8198245811912646),\n",
      " ('1891: Star Wars: Episode V - The Empire Strikes Back (1980)',\n",
      "  4.8111564171524037),\n",
      " ('862: Toy Story (1995)', 4.807818971759894),\n",
      " ('194: Amelie (2001)', 4.8071515546530845),\n",
      " ('155: The Dark Knight (2008)', 4.7802581380007609),\n",
      " ('857: Saving Private Ryan (1998)', 4.7738294304498909),\n",
      " ('745: The Sixth Sense (1999)', 4.7100063836805734),\n",
      " ('585: Monsters Inc. (2001)', 4.7067730171799118),\n",
      " ('8358: Cast Away (2000)', 4.6992230020594077),\n",
      " ('153: Lost in Translation (2003)', 4.6868459060526453),\n",
      " ('11: Star Wars: Episode IV - A New Hope (1977)', 4.6860992437096796),\n",
      " ('1422: The Departed (2006)', 4.6783664536491596),\n",
      " ('2501: The Bourne Identity (2002)', 4.6707021335467926),\n",
      " ('36657: X-Men (2000)', 4.6707021335467926),\n",
      " (\"161: Ocean's Eleven (2001)\", 4.667319988939143),\n",
      " ('272: Batman Begins (2005)', 4.5942308947599839),\n",
      " ('788: Mrs. Doubtfire (1993)', 4.5817158437371877),\n",
      " ('640: Catch Me If You Can (2002)', 4.5730476796983268),\n",
      " ('1892: Star Wars: Episode VI - Return of the Jedi (1983)',\n",
      "  4.5548245670237284),\n",
      " ('629: The Usual Suspects (1995)', 4.5403682967967232),\n",
      " ('134: O Brother Where Art Thou? (2000)', 4.5317642556448536),\n",
      " ('601: E.T. the Extra-Terrestrial (1982)', 4.5025395284058272),\n",
      " ('597: Titanic (1997)', 4.4966708341611756),\n",
      " ('9806: The Incredibles (2004)', 4.4932226618397335),\n",
      " ('107: Snatch (2000)', 4.4733961063572858),\n",
      " ('24: Kill Bill: Vol. 1 (2003)', 4.4504411670512365),\n",
      " ('22: Pirates of the Caribbean: The Curse of the Black Pearl (2003)',\n",
      "  4.4284349825444762),\n",
      " ('197: Braveheart (1995)', 4.4278911128947946),\n",
      " ('752: V for Vendetta (2006)', 4.4084895763065211),\n",
      " ('98: Gladiator (2000)', 4.3809573965045248),\n",
      " ('808: Shrek (2001)', 4.3683994818167289),\n",
      " ('2502: The Bourne Supremacy (2004)', 4.3388647386877581),\n",
      " ('812: Aladdin (1992)', 4.2753668249543795),\n",
      " ('954: Mission: Impossible (1996)', 4.2727331482281565),\n",
      " ('641: Requiem for a Dream (2000)', 4.2713624308959837),\n",
      " ('5503: The Fugitive (1993)', 4.2411105801616555),\n",
      " ('14: American Beauty (1999)', 4.2408118259954675),\n",
      " ('2024: The Patriot (2000)', 4.2401296153421413),\n",
      " ('393: Kill Bill: Vol. 2 (2004)', 4.2274467906501441),\n",
      " ('180: Minority Report (2002)', 4.2146456356414541),\n",
      " ('786: Almost Famous (2000)', 4.1992230020594077),\n",
      " ('2164: Stargate (1994)', 4.1838942307692317),\n",
      " ('9331: Clear and Present Danger (1994)', 4.1838942307692317),\n",
      " ('9741: Unbreakable (2000)', 4.1838942307692317),\n",
      " ('607: Men in Black (a.k.a. MIB) (1997)', 4.1738973094520846),\n",
      " ('10020: Beauty and the Beast (1991)', 4.1737237787916417),\n",
      " ('243: High Fidelity (2000)', 4.1649390422997854),\n",
      " ('581: Dances with Wolves (1990)', 4.1461416476108175),\n",
      " ('141: Donnie Darko (2001)', 4.1385341935259872),\n",
      " ('36658: X2: X-Men United (2003)', 4.1363346978284889),\n",
      " ('1572: Die Hard: With a Vengeance (1995)', 4.1292043436675758),\n",
      " ('602: Independence Day (a.k.a. ID4) (1996)', 4.0634927310625892),\n",
      " ('809: Shrek 2 (2004)', 4.0531287832719771),\n",
      " ('63: Twelve Monkeys (a.k.a. 12 Monkeys) (1995)', 4.051834299795563),\n",
      " ('664: Twister (1996)', 4.042818957592357),\n",
      " ('854: The Mask (1994)', 4.0183384912153253),\n",
      " ('146: Crouching Tiger Hidden Dragon (Wo hu cang long) (2000)',\n",
      "  3.9981139748861145),\n",
      " ('187: Sin City (2005)', 3.9792276142399152),\n",
      " ('36955: True Lies (1994)', 3.974464954053587),\n",
      " ('114: Pretty Woman (1990)', 3.9701667911105321),\n",
      " ('604: The Matrix Reloaded (2003)', 3.9660669654011147),\n",
      " ('955: Mission: Impossible II (2000)', 3.9224601202512632),\n",
      " ('280: Terminator 2: Judgment Day (1991)', 3.8388647386877581),\n",
      " ('8467: Dumb & Dumber (1994)', 3.7500218813385815),\n",
      " ('9802: The Rock (1996)', 3.7401296153421413),\n",
      " (\"671: Harry Potter and the Sorcerer's Stone (a.k.a. Harry Potter and the \"\n",
      "  \"Philosopher's Stone) (2001)\",\n",
      "  3.6827617983171703),\n",
      " ('1597: Meet the Parents (2000)', 3.6632035032147088),\n",
      " ('462: Erin Brockovich (2000)', 3.6573354239571603),\n",
      " ('3049: Ace Ventura: Pet Detective (1994)', 3.6537983115977548),\n",
      " ('557: Spider-Man (2002)', 3.5767462438146524),\n",
      " ('672: Harry Potter and the Chamber of Secrets (2002)', 3.5641508218885694),\n",
      " ('558: Spider-Man 2 (2004)', 3.5445465665915168),\n",
      " ('1637: Speed (1994)', 3.5070273438287236),\n",
      " ('1894: Star Wars: Episode II - Attack of the Clones (2002)',\n",
      "  3.463083841734063),\n",
      " ('414: Batman Forever (1995)', 3.3755921477635686),\n",
      " ('268: Batman (1989)', 3.1838942307692313),\n",
      " (\"4327: Charlie's Angels (2000)\", 2.967571657156959),\n",
      " ('7443: Chicken Run (2000)', 2.9397719275681506),\n",
      " ('1900: Traffic (2000)', 2.8445040568037885)]\n"
     ]
    }
   ],
   "source": [
    "n_most_similar_users = 5\n",
    "top_n_movies = 100\n",
    "\n",
    "def get_movies_predictions(u, ratings, user_sim, top_n_movies, normalized):\n",
    "    neighbors, weights = get_most_similar_users(u, user_sim, n_most_similar_users)\n",
    "    movies_predictions = [get_movie_prediction(u, m, ratings, neighbors, weights, normalized) for m in range(nr_movies)]\n",
    "    \n",
    "    movies_predictions = sorted(enumerate(movies_predictions), key=lambda x: x[1] if not  np.isnan(x[1]) else -100, reverse=True)\n",
    "    movies_ids, movies_predictions = zip(*movies_predictions[:top_n_movies])\n",
    "    \n",
    "    return movies_ids, movies_predictions\n",
    "        \n",
    "def get_movie_prediction(u, m, ratings, neighbors, weights, normalized):\n",
    "    neighbors_weights = [(n, w) for n, w in zip(neighbors, weights) if not np.isnan(ratings[n, m])]\n",
    "    if len(neighbors_weights) == 0:\n",
    "        return np.nan\n",
    "    neighbors, weights = zip(*neighbors_weights)\n",
    "    neighbors = list(neighbors)\n",
    "    \n",
    "    if normalized:\n",
    "        movie_prediction = np.average(ratings[neighbors, m] - users_avg_ratings[neighbors], weights=weights)\n",
    "        movie_prediction += users_avg_ratings[u]\n",
    "    else:    \n",
    "        movie_prediction = np.average(ratings[neighbors, m], weights=weights)\n",
    "    \n",
    "    return movie_prediction\n",
    "\n",
    "user_id = user_name2id[\"89\"]\n",
    "movies, predictions = get_movies_predictions(user_id, ratings, user_sim, top_n_movies, normalized=True)\n",
    "pprint(list(zip(get_movie_names(movies), predictions)))"
   ]
  },
  {
   "cell_type": "code",
   "execution_count": null,
   "metadata": {
    "collapsed": true
   },
   "outputs": [],
   "source": []
  },
  {
   "cell_type": "code",
   "execution_count": 43,
   "metadata": {},
   "outputs": [
    {
     "ename": "IndexError",
     "evalue": "too many indices for array",
     "output_type": "error",
     "traceback": [
      "\u001b[0;31m---------------------------------------------------------------------------\u001b[0m",
      "\u001b[0;31mIndexError\u001b[0m                                Traceback (most recent call last)",
      "\u001b[0;32m<ipython-input-43-8285853f0ffa>\u001b[0m in \u001b[0;36m<module>\u001b[0;34m()\u001b[0m\n\u001b[1;32m      1\u001b[0m \u001b[0ma\u001b[0m \u001b[0;34m=\u001b[0m \u001b[0mnp\u001b[0m\u001b[0;34m.\u001b[0m\u001b[0marray\u001b[0m\u001b[0;34m(\u001b[0m\u001b[0;34m[\u001b[0m\u001b[0;36m1\u001b[0m\u001b[0;34m,\u001b[0m \u001b[0;36m2\u001b[0m\u001b[0;34m,\u001b[0m \u001b[0;36m3\u001b[0m\u001b[0;34m]\u001b[0m\u001b[0;34m)\u001b[0m\u001b[0;34m\u001b[0m\u001b[0m\n\u001b[0;32m----> 2\u001b[0;31m \u001b[0ma\u001b[0m\u001b[0;34m[\u001b[0m\u001b[0;34m(\u001b[0m\u001b[0;36m2\u001b[0m\u001b[0;34m,\u001b[0m \u001b[0;36m2\u001b[0m\u001b[0;34m,\u001b[0m \u001b[0;36m1\u001b[0m\u001b[0;34m)\u001b[0m\u001b[0;34m]\u001b[0m\u001b[0;34m\u001b[0m\u001b[0m\n\u001b[0m",
      "\u001b[0;31mIndexError\u001b[0m: too many indices for array"
     ]
    }
   ],
   "source": [
    "a = np.array([1, 2, 3])\n",
    "a[(2, 2, 1)]"
   ]
  }
 ],
 "metadata": {
  "kernelspec": {
   "display_name": "Python 3",
   "language": "python",
   "name": "python3"
  },
  "language_info": {
   "codemirror_mode": {
    "name": "ipython",
    "version": 3
   },
   "file_extension": ".py",
   "mimetype": "text/x-python",
   "name": "python",
   "nbconvert_exporter": "python",
   "pygments_lexer": "ipython3",
   "version": "3.5.2"
  }
 },
 "nbformat": 4,
 "nbformat_minor": 2
}
